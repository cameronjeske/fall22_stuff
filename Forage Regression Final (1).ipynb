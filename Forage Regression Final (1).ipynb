{
 "cells": [
  {
   "cell_type": "markdown",
   "id": "9f38f613",
   "metadata": {},
   "source": [
    "#**Regression for N**"
   ]
  },
  {
   "cell_type": "code",
   "execution_count": 9,
   "id": "36c9e957",
   "metadata": {},
   "outputs": [],
   "source": [
    "import pandas as pd\n",
    "from sklearn.linear_model import LinearRegression\n",
    "import statsmodels.api as sm"
   ]
  },
  {
   "cell_type": "code",
   "execution_count": 10,
   "id": "eb8efcff",
   "metadata": {},
   "outputs": [],
   "source": [
    "sheet = pd.read_csv(r'C:\\Users\\csjes\\Downloads\\forage reg.csv')\n",
    "df = pd.DataFrame(sheet, columns = ['Alfalfa', 'annualrye', 'bermuda', 'bermudamixed', 'CSA', 'Corn', 'fescuemixed', 'clover',\n",
    "                                    'crabgrass', 'johnsongrass', 'mixed', 'nwsg', 'orchardgrass', 'small grains', 'WSA',\n",
    "                                    'wheat', 'N', 'P', 'K', 'jan', 'feb', 'mar', 'apr', 'may', 'jun', 'jul', 'aug',\n",
    "                                    'sep', 'oct', 'nov', 'dec', '2015', '2016', '2017', '2018', '2019', '2020', '2021', '2022'])"
   ]
  },
  {
   "cell_type": "code",
   "execution_count": 11,
   "id": "3e9814df",
   "metadata": {},
   "outputs": [],
   "source": [
    "X = df[['Alfalfa', 'annualrye', 'bermuda', 'bermudamixed', 'CSA', 'Corn', 'fescuemixed', 'clover', 'crabgrass', 'johnsongrass',\n",
    "        'mixed', 'nwsg', 'orchardgrass', 'small grains', 'WSA', 'wheat', 'P', 'K', 'jan', 'feb', 'mar', 'apr', 'may',\n",
    "        'jun', 'jul', 'aug', 'sep', 'oct', 'nov', 'dec', '2015', '2016', '2017', '2018', '2019', '2020', '2021', '2022']]\n",
    "y = df['N']"
   ]
  },
  {
   "cell_type": "code",
   "execution_count": 12,
   "id": "61463311",
   "metadata": {},
   "outputs": [
    {
     "name": "stdout",
     "output_type": "stream",
     "text": [
      "                            OLS Regression Results                            \n",
      "==============================================================================\n",
      "Dep. Variable:                      N   R-squared:                       0.503\n",
      "Model:                            OLS   Adj. R-squared:                  0.500\n",
      "Method:                 Least Squares   F-statistic:                     162.5\n",
      "Date:                Fri, 04 Nov 2022   Prob (F-statistic):               0.00\n",
      "Time:                        16:34:28   Log-Likelihood:                -3454.1\n",
      "No. Observations:                5653   AIC:                             6980.\n",
      "Df Residuals:                    5617   BIC:                             7219.\n",
      "Df Model:                          35                                         \n",
      "Covariance Type:            nonrobust                                         \n",
      "================================================================================\n",
      "                   coef    std err          t      P>|t|      [0.025      0.975]\n",
      "--------------------------------------------------------------------------------\n",
      "const            0.7143      0.021     34.424      0.000       0.674       0.755\n",
      "Alfalfa          1.0973      0.035     31.790      0.000       1.030       1.165\n",
      "annualrye       -0.0303      0.045     -0.667      0.504      -0.119       0.059\n",
      "bermuda          0.2419      0.026      9.324      0.000       0.191       0.293\n",
      "bermudamixed  -1.91e-16   6.51e-17     -2.935      0.003   -3.19e-16   -6.34e-17\n",
      "CSA             -0.1563      0.060     -2.611      0.009      -0.274      -0.039\n",
      "Corn            -0.0158      0.057     -0.276      0.783      -0.128       0.096\n",
      "fescuemixed      0.0319      0.026      1.230      0.219      -0.019       0.083\n",
      "clover           0.6325      0.143      4.419      0.000       0.352       0.913\n",
      "crabgrass       -0.0932      0.126     -0.742      0.458      -0.339       0.153\n",
      "johnsongrass    -0.0536      0.073     -0.737      0.461      -0.196       0.089\n",
      "mixed            0.0394      0.019      2.121      0.034       0.003       0.076\n",
      "nwsg             0.0783      0.033      2.354      0.019       0.013       0.143\n",
      "orchardgrass     0.0998      0.029      3.425      0.001       0.043       0.157\n",
      "small grains    -0.0735      0.043     -1.714      0.087      -0.158       0.011\n",
      "WSA             -0.0245      0.032     -0.759      0.448      -0.088       0.039\n",
      "wheat            0.0130      0.070      0.185      0.853      -0.125       0.151\n",
      "P                0.0015      0.004      0.342      0.732      -0.007       0.010\n",
      "K                0.5139      0.011     46.496      0.000       0.492       0.536\n",
      "jan              0.0009      0.018      0.048      0.962      -0.035       0.037\n",
      "feb              0.0365      0.023      1.587      0.113      -0.009       0.082\n",
      "mar              0.0022      0.027      0.082      0.935      -0.051       0.055\n",
      "apr              0.0483      0.043      1.114      0.265      -0.037       0.133\n",
      "may              0.1862      0.031      6.079      0.000       0.126       0.246\n",
      "jun              0.2143      0.018     12.192      0.000       0.180       0.249\n",
      "jul              0.0585      0.020      2.969      0.003       0.020       0.097\n",
      "aug              0.0828      0.020      4.143      0.000       0.044       0.122\n",
      "sep              0.0961      0.018      5.413      0.000       0.061       0.131\n",
      "oct              0.0134      0.019      0.721      0.471      -0.023       0.050\n",
      "nov              0.0420      0.018      2.349      0.019       0.007       0.077\n",
      "dec             -0.0667      0.024     -2.737      0.006      -0.115      -0.019\n",
      "2015            -0.0095      0.022     -0.439      0.661      -0.052       0.033\n",
      "2016             0.0641      0.015      4.312      0.000       0.035       0.093\n",
      "2017            -0.0190      0.018     -1.061      0.289      -0.054       0.016\n",
      "2018             0.0508      0.016      3.088      0.002       0.019       0.083\n",
      "2019             0.0663      0.019      3.571      0.000       0.030       0.103\n",
      "2020             0.0552      0.016      3.516      0.000       0.024       0.086\n",
      "2021             0.2503      0.015     17.144      0.000       0.222       0.279\n",
      "2022             0.2561      0.024     10.686      0.000       0.209       0.303\n",
      "==============================================================================\n",
      "Omnibus:                      500.445   Durbin-Watson:                   1.413\n",
      "Prob(Omnibus):                  0.000   Jarque-Bera (JB):             1059.644\n",
      "Skew:                           0.571   Prob(JB):                    7.97e-231\n",
      "Kurtosis:                       4.788   Cond. No.                     1.17e+16\n",
      "==============================================================================\n",
      "\n",
      "Notes:\n",
      "[1] Standard Errors assume that the covariance matrix of the errors is correctly specified.\n",
      "[2] The smallest eigenvalue is 1.97e-28. This might indicate that there are\n",
      "strong multicollinearity problems or that the design matrix is singular.\n"
     ]
    }
   ],
   "source": [
    "X = sm.add_constant(X)\n",
    "result = sm.OLS(y, X).fit()\n",
    "print(result.summary())"
   ]
  },
  {
   "cell_type": "markdown",
   "id": "13e4f9a7",
   "metadata": {},
   "source": [
    "#**Regression for P**"
   ]
  },
  {
   "cell_type": "code",
   "execution_count": 13,
   "id": "5cbe898f",
   "metadata": {},
   "outputs": [],
   "source": [
    "X = df[['Alfalfa', 'annualrye', 'bermuda', 'bermudamixed', 'CSA', 'Corn', 'fescuemixed', 'clover', 'crabgrass', 'johnsongrass',\n",
    "        'mixed', 'nwsg', 'orchardgrass', 'small grains', 'WSA', 'wheat', 'N', 'K', 'jan', 'feb', 'mar', 'apr', 'may',\n",
    "        'jun', 'jul', 'aug', 'sep', 'oct', 'nov', 'dec', '2015', '2016', '2017', '2018', '2019', '2020', '2021', '2022']]\n",
    "y = df['P']"
   ]
  },
  {
   "cell_type": "code",
   "execution_count": 14,
   "id": "ca27b53b",
   "metadata": {},
   "outputs": [
    {
     "name": "stdout",
     "output_type": "stream",
     "text": [
      "                            OLS Regression Results                            \n",
      "==============================================================================\n",
      "Dep. Variable:                      P   R-squared:                       0.010\n",
      "Model:                            OLS   Adj. R-squared:                  0.004\n",
      "Method:                 Least Squares   F-statistic:                     1.579\n",
      "Date:                Fri, 04 Nov 2022   Prob (F-statistic):             0.0164\n",
      "Time:                        16:36:02   Log-Likelihood:                -9725.9\n",
      "No. Observations:                5653   AIC:                         1.952e+04\n",
      "Df Residuals:                    5617   BIC:                         1.976e+04\n",
      "Df Model:                          35                                         \n",
      "Covariance Type:            nonrobust                                         \n",
      "================================================================================\n",
      "                   coef    std err          t      P>|t|      [0.025      0.975]\n",
      "--------------------------------------------------------------------------------\n",
      "const           -0.0014      0.069     -0.021      0.984      -0.137       0.134\n",
      "Alfalfa         -0.0027      0.114     -0.024      0.981      -0.226       0.220\n",
      "annualrye       -0.0099      0.138     -0.072      0.943      -0.280       0.260\n",
      "bermuda          0.0044      0.079      0.056      0.956      -0.151       0.160\n",
      "bermudamixed  1.943e-18   1.28e-16      0.015      0.988   -2.49e-16    2.53e-16\n",
      "CSA              0.0578      0.182      0.318      0.751      -0.298       0.414\n",
      "Corn             0.0942      0.173      0.543      0.587      -0.246       0.434\n",
      "fescuemixed      0.0216      0.079      0.275      0.784      -0.132       0.176\n",
      "clover          -0.0436      0.435     -0.100      0.920      -0.896       0.809\n",
      "crabgrass        0.0085      0.381      0.022      0.982      -0.738       0.755\n",
      "johnsongrass     0.0318      0.221      0.144      0.885      -0.401       0.464\n",
      "mixed            0.0409      0.056      0.726      0.468      -0.070       0.152\n",
      "nwsg             0.0737      0.101      0.730      0.465      -0.124       0.271\n",
      "orchardgrass    -0.0069      0.088     -0.078      0.938      -0.180       0.167\n",
      "small grains     0.0255      0.130      0.196      0.845      -0.230       0.281\n",
      "WSA              0.2491      0.098      2.544      0.011       0.057       0.441\n",
      "wheat            0.0876      0.213      0.412      0.681      -0.329       0.505\n",
      "N                0.0138      0.040      0.342      0.732      -0.065       0.093\n",
      "K                0.0990      0.039      2.511      0.012       0.022       0.176\n",
      "jan             -0.0184      0.056     -0.331      0.741      -0.128       0.091\n",
      "feb             -0.0441      0.070     -0.633      0.527      -0.181       0.093\n",
      "mar             -0.0262      0.082     -0.318      0.750      -0.188       0.135\n",
      "apr              0.0090      0.131      0.068      0.946      -0.249       0.266\n",
      "may              0.0003      0.093      0.003      0.997      -0.182       0.183\n",
      "jun             -0.0025      0.054     -0.047      0.962      -0.108       0.103\n",
      "jul             -0.0472      0.060     -0.788      0.431      -0.164       0.070\n",
      "aug             -0.0259      0.061     -0.427      0.669      -0.145       0.093\n",
      "sep             -0.0195      0.054     -0.362      0.717      -0.125       0.086\n",
      "oct              0.2149      0.056      3.830      0.000       0.105       0.325\n",
      "nov             -0.0319      0.054     -0.589      0.556      -0.138       0.074\n",
      "dec             -0.0097      0.074     -0.131      0.895      -0.155       0.135\n",
      "2015            -0.0766      0.065     -1.172      0.241      -0.205       0.052\n",
      "2016            -0.0240      0.045     -0.531      0.595      -0.112       0.065\n",
      "2017            -0.0589      0.054     -1.084      0.278      -0.165       0.048\n",
      "2018            -0.0599      0.050     -1.198      0.231      -0.158       0.038\n",
      "2019            -0.0152      0.056     -0.270      0.787      -0.126       0.095\n",
      "2020             0.1808      0.048      3.798      0.000       0.087       0.274\n",
      "2021             0.0131      0.045      0.289      0.773      -0.076       0.102\n",
      "2022             0.0392      0.073      0.535      0.593      -0.105       0.183\n",
      "==============================================================================\n",
      "Omnibus:                    18157.946   Durbin-Watson:                   2.015\n",
      "Prob(Omnibus):                  0.000   Jarque-Bera (JB):       1838952119.486\n",
      "Skew:                          52.571   Prob(JB):                         0.00\n",
      "Kurtosis:                    2795.182   Cond. No.                     1.11e+16\n",
      "==============================================================================\n",
      "\n",
      "Notes:\n",
      "[1] Standard Errors assume that the covariance matrix of the errors is correctly specified.\n",
      "[2] The smallest eigenvalue is 3.86e-28. This might indicate that there are\n",
      "strong multicollinearity problems or that the design matrix is singular.\n"
     ]
    }
   ],
   "source": [
    "X = sm.add_constant(X)\n",
    "result = sm.OLS(y, X).fit()\n",
    "print(result.summary())"
   ]
  },
  {
   "cell_type": "markdown",
   "id": "f8909bfa",
   "metadata": {},
   "source": [
    "#**Regression for K**"
   ]
  },
  {
   "cell_type": "code",
   "execution_count": 15,
   "id": "4760aa3f",
   "metadata": {},
   "outputs": [],
   "source": [
    "X = df[['Alfalfa', 'annualrye', 'bermuda', 'bermudamixed', 'CSA', 'Corn', 'fescuemixed', 'clover', 'crabgrass', 'johnsongrass',\n",
    "        'mixed', 'nwsg', 'orchardgrass', 'small grains', 'WSA', 'wheat', 'N', 'P', 'jan', 'feb', 'mar', 'apr', 'may',\n",
    "        'jun', 'jul', 'aug', 'sep', 'oct', 'nov', 'dec', '2015', '2016', '2017', '2018', '2019', '2020', '2021', '2022']]\n",
    "y = df['K']"
   ]
  },
  {
   "cell_type": "code",
   "execution_count": 16,
   "id": "82e28955",
   "metadata": {},
   "outputs": [
    {
     "name": "stdout",
     "output_type": "stream",
     "text": [
      "                            OLS Regression Results                            \n",
      "==============================================================================\n",
      "Dep. Variable:                      K   R-squared:                       0.442\n",
      "Model:                            OLS   Adj. R-squared:                  0.439\n",
      "Method:                 Least Squares   F-statistic:                     127.2\n",
      "Date:                Fri, 04 Nov 2022   Prob (F-statistic):               0.00\n",
      "Time:                        16:36:41   Log-Likelihood:                -3598.0\n",
      "No. Observations:                5653   AIC:                             7268.\n",
      "Df Residuals:                    5617   BIC:                             7507.\n",
      "Df Model:                          35                                         \n",
      "Covariance Type:            nonrobust                                         \n",
      "================================================================================\n",
      "                   coef    std err          t      P>|t|      [0.025      0.975]\n",
      "--------------------------------------------------------------------------------\n",
      "const            0.6502      0.022     29.884      0.000       0.608       0.693\n",
      "Alfalfa         -0.0773      0.038     -2.012      0.044      -0.153      -0.002\n",
      "annualrye        0.2287      0.046      4.921      0.000       0.138       0.320\n",
      "bermuda         -0.1707      0.027     -6.386      0.000      -0.223      -0.118\n",
      "bermudamixed  5.518e-16   1.57e-16      3.507      0.000    2.43e-16     8.6e-16\n",
      "CSA              0.2534      0.061      4.130      0.000       0.133       0.374\n",
      "Corn            -0.2677      0.059     -4.571      0.000      -0.382      -0.153\n",
      "fescuemixed      0.0371      0.027      1.397      0.163      -0.015       0.089\n",
      "clover           0.1350      0.147      0.918      0.359      -0.153       0.423\n",
      "crabgrass        0.5746      0.129      4.470      0.000       0.323       0.827\n",
      "johnsongrass    -0.2646      0.075     -3.551      0.000      -0.411      -0.119\n",
      "mixed           -0.1070      0.019     -5.622      0.000      -0.144      -0.070\n",
      "nwsg            -0.1729      0.034     -5.077      0.000      -0.240      -0.106\n",
      "orchardgrass     0.1902      0.030      6.376      0.000       0.132       0.249\n",
      "small grains    -0.0970      0.044     -2.205      0.028      -0.183      -0.011\n",
      "WSA              0.2247      0.033      6.808      0.000       0.160       0.289\n",
      "wheat           -0.1661      0.072     -2.310      0.021      -0.307      -0.025\n",
      "N                0.5408      0.012     46.496      0.000       0.518       0.564\n",
      "P                0.0113      0.005      2.511      0.012       0.002       0.020\n",
      "jan             -0.0889      0.019     -4.730      0.000      -0.126      -0.052\n",
      "feb              0.1434      0.024      6.101      0.000       0.097       0.189\n",
      "mar              0.1631      0.028      5.873      0.000       0.109       0.218\n",
      "apr              0.0677      0.044      1.524      0.128      -0.019       0.155\n",
      "may              0.0313      0.032      0.993      0.321      -0.031       0.093\n",
      "jun              0.0100      0.018      0.547      0.584      -0.026       0.046\n",
      "jul              0.1144      0.020      5.666      0.000       0.075       0.154\n",
      "aug              0.0843      0.020      4.116      0.000       0.044       0.125\n",
      "sep              0.0787      0.018      4.318      0.000       0.043       0.114\n",
      "oct              0.0588      0.019      3.100      0.002       0.022       0.096\n",
      "nov              0.1074      0.018      5.873      0.000       0.072       0.143\n",
      "dec             -0.1200      0.025     -4.802      0.000      -0.169      -0.071\n",
      "2015             0.1379      0.022      6.257      0.000       0.095       0.181\n",
      "2016             0.0374      0.015      2.452      0.014       0.008       0.067\n",
      "2017             0.2629      0.018     14.576      0.000       0.228       0.298\n",
      "2018             0.1635      0.017      9.752      0.000       0.131       0.196\n",
      "2019             0.1192      0.019      6.269      0.000       0.082       0.156\n",
      "2020             0.1088      0.016      6.775      0.000       0.077       0.140\n",
      "2021            -0.0849      0.015     -5.542      0.000      -0.115      -0.055\n",
      "2022            -0.0946      0.025     -3.813      0.000      -0.143      -0.046\n",
      "==============================================================================\n",
      "Omnibus:                      329.393   Durbin-Watson:                   1.615\n",
      "Prob(Omnibus):                  0.000   Jarque-Bera (JB):              820.040\n",
      "Skew:                           0.342   Prob(JB):                    8.52e-179\n",
      "Kurtosis:                       4.736   Cond. No.                     1.16e+16\n",
      "==============================================================================\n",
      "\n",
      "Notes:\n",
      "[1] Standard Errors assume that the covariance matrix of the errors is correctly specified.\n",
      "[2] The smallest eigenvalue is 2.18e-28. This might indicate that there are\n",
      "strong multicollinearity problems or that the design matrix is singular.\n"
     ]
    }
   ],
   "source": [
    "X = sm.add_constant(X)\n",
    "result = sm.OLS(y, X).fit()\n",
    "print(result.summary())"
   ]
  },
  {
   "cell_type": "markdown",
   "id": "9a44dd3c",
   "metadata": {},
   "source": [
    "#**Regression for RFQ**"
   ]
  },
  {
   "cell_type": "code",
   "execution_count": 17,
   "id": "ebdd33db",
   "metadata": {},
   "outputs": [],
   "source": [
    "df = pd.DataFrame(sheet, columns = ['Alfalfa', 'annualrye', 'bermuda', 'bermudamixed', 'CSA', 'Corn', 'fescuemixed', 'clover',\n",
    "                                    'crabgrass', 'johnsongrass', 'mixed', 'nwsg', 'orchardgrass', 'small grains', 'WSA',\n",
    "                                    'wheat', 'N', 'P', 'K', 'RFQ', 'jan', 'feb', 'mar', 'apr', 'may', 'jun', 'jul', 'aug',\n",
    "                                    'sep', 'oct', 'nov', 'dec', '2015', '2016', '2017', '2018', '2019', '2020', '2021', '2022'])"
   ]
  },
  {
   "cell_type": "code",
   "execution_count": 18,
   "id": "1488ade2",
   "metadata": {},
   "outputs": [],
   "source": [
    "X = df[['Alfalfa', 'annualrye', 'bermuda', 'bermudamixed', 'CSA', 'Corn', 'fescuemixed', 'clover', 'crabgrass', 'johnsongrass',\n",
    "        'mixed', 'nwsg', 'orchardgrass', 'small grains', 'WSA', 'wheat', 'N', 'P', 'K', 'jan', 'feb', 'mar', 'apr', 'may',\n",
    "        'jun', 'jul', 'aug', 'sep', 'oct', 'nov', 'dec', '2015', '2016', '2017', '2018', '2019', '2020', '2021', '2022']]\n",
    "y = df['RFQ']"
   ]
  },
  {
   "cell_type": "code",
   "execution_count": 19,
   "id": "817058dc",
   "metadata": {},
   "outputs": [
    {
     "name": "stdout",
     "output_type": "stream",
     "text": [
      "                            OLS Regression Results                            \n",
      "==============================================================================\n",
      "Dep. Variable:                    RFQ   R-squared:                       0.712\n",
      "Model:                            OLS   Adj. R-squared:                  0.710\n",
      "Method:                 Least Squares   F-statistic:                     385.8\n",
      "Date:                Fri, 04 Nov 2022   Prob (F-statistic):               0.00\n",
      "Time:                        16:38:05   Log-Likelihood:                -23221.\n",
      "No. Observations:                5653   AIC:                         4.652e+04\n",
      "Df Residuals:                    5616   BIC:                         4.676e+04\n",
      "Df Model:                          36                                         \n",
      "Covariance Type:            nonrobust                                         \n",
      "================================================================================\n",
      "                   coef    std err          t      P>|t|      [0.025      0.975]\n",
      "--------------------------------------------------------------------------------\n",
      "const           42.0171      0.754     55.745      0.000      40.539      43.495\n",
      "Alfalfa       -115.5218      1.238    -93.339      0.000    -117.948    -113.095\n",
      "annualrye       11.4065      1.499      7.610      0.000       8.468      14.345\n",
      "bermuda         -1.1514      0.863     -1.334      0.182      -2.843       0.541\n",
      "bermudamixed  2.728e-14    2.1e-15     13.008      0.000    2.32e-14    3.14e-14\n",
      "CSA              5.1995      1.977      2.630      0.009       1.324       9.075\n",
      "Corn           -79.7653      1.888    -42.252      0.000     -83.466     -76.064\n",
      "fescuemixed      2.2953      0.855      2.683      0.007       0.618       3.972\n",
      "clover          21.0127      4.733      4.440      0.000      11.735      30.291\n",
      "crabgrass        2.1260      4.144      0.513      0.608      -5.997      10.249\n",
      "johnsongrass     1.0768      2.401      0.448      0.654      -3.630       5.784\n",
      "mixed            0.7301      0.614      1.189      0.234      -0.473       1.934\n",
      "nwsg             0.2759      1.098      0.251      0.802      -1.877       2.429\n",
      "orchardgrass     1.6886      0.963      1.753      0.080      -0.200       3.577\n",
      "small grains     6.9327      1.416      4.895      0.000       4.157       9.709\n",
      "WSA             -3.3850      1.066     -3.174      0.002      -5.476      -1.294\n",
      "wheat           17.6176      2.316      7.608      0.000      13.078      22.157\n",
      "N               19.3960      0.440     44.039      0.000      18.533      20.259\n",
      "P                0.0878      0.145      0.604      0.546      -0.197       0.372\n",
      "K                1.9859      0.429      4.625      0.000       1.144       2.828\n",
      "jan             -0.3330      0.606     -0.549      0.583      -1.521       0.855\n",
      "feb              1.1178      0.759      1.473      0.141      -0.370       2.605\n",
      "mar              4.4639      0.896      4.981      0.000       2.707       6.221\n",
      "apr              2.0963      1.430      1.466      0.143      -0.706       4.899\n",
      "may              9.1133      1.014      8.983      0.000       7.125      11.102\n",
      "jun              9.0689      0.588     15.431      0.000       7.917      10.221\n",
      "jul              4.4215      0.651      6.788      0.000       3.144       5.698\n",
      "aug              4.6624      0.660      7.061      0.000       3.368       5.957\n",
      "sep              2.7247      0.588      4.636      0.000       1.573       3.877\n",
      "oct              1.8727      0.611      3.063      0.002       0.674       3.071\n",
      "nov              3.5373      0.590      5.994      0.000       2.380       4.694\n",
      "dec             -0.7287      0.806     -0.905      0.366      -2.308       0.851\n",
      "2015             3.6512      0.712      5.132      0.000       2.256       5.046\n",
      "2016             9.1938      0.491     18.708      0.000       8.230      10.157\n",
      "2017             2.8557      0.591      4.829      0.000       1.696       4.015\n",
      "2018             5.1278      0.544      9.427      0.000       4.062       6.194\n",
      "2019             3.6972      0.614      6.024      0.000       2.494       4.900\n",
      "2020             6.2373      0.519     12.023      0.000       5.220       7.254\n",
      "2021             5.4609      0.494     11.048      0.000       4.492       6.430\n",
      "2022             5.7932      0.799      7.251      0.000       4.227       7.359\n",
      "==============================================================================\n",
      "Omnibus:                     5913.372   Durbin-Watson:                   1.721\n",
      "Prob(Omnibus):                  0.000   Jarque-Bera (JB):           754690.639\n",
      "Skew:                           4.971   Prob(JB):                         0.00\n",
      "Kurtosis:                      58.724   Cond. No.                     1.11e+16\n",
      "==============================================================================\n",
      "\n",
      "Notes:\n",
      "[1] Standard Errors assume that the covariance matrix of the errors is correctly specified.\n",
      "[2] The smallest eigenvalue is 3.89e-28. This might indicate that there are\n",
      "strong multicollinearity problems or that the design matrix is singular.\n"
     ]
    }
   ],
   "source": [
    "X = sm.add_constant(X)\n",
    "result = sm.OLS(y, X).fit()\n",
    "print(result.summary())"
   ]
  },
  {
   "cell_type": "code",
   "execution_count": null,
   "id": "805b4a4f",
   "metadata": {},
   "outputs": [],
   "source": []
  }
 ],
 "metadata": {
  "kernelspec": {
   "display_name": "Python 3 (ipykernel)",
   "language": "python",
   "name": "python3"
  },
  "language_info": {
   "codemirror_mode": {
    "name": "ipython",
    "version": 3
   },
   "file_extension": ".py",
   "mimetype": "text/x-python",
   "name": "python",
   "nbconvert_exporter": "python",
   "pygments_lexer": "ipython3",
   "version": "3.9.12"
  }
 },
 "nbformat": 4,
 "nbformat_minor": 5
}
