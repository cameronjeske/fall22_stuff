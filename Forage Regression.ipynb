{
 "cells": [
  {
   "cell_type": "code",
   "execution_count": 28,
   "id": "36c9e957",
   "metadata": {},
   "outputs": [],
   "source": [
    "import pandas as pd\n",
    "from sklearn.linear_model import LinearRegression\n",
    "import statsmodels.api as sm"
   ]
  },
  {
   "cell_type": "code",
   "execution_count": 29,
   "id": "eb8efcff",
   "metadata": {},
   "outputs": [],
   "source": [
    "sheet = pd.read_csv(r'C:\\Users\\csjes\\Downloads\\forage reg.csv')\n",
    "df = pd.DataFrame(sheet, columns = ['Alfalfa', 'annualrye', 'bermuda', 'bermudamixed', 'CSA', 'Corn', 'fescuemixed', 'clover', 'crabgrass', 'johnsongrass', 'mixed', 'nwsg', 'orchardgrass', 'small grains', 'switchgrass', 'WSA', 'wheat', 'N', 'P', 'K', 'RFQ', 'jan', 'feb', 'mar', 'apr', 'may', 'jun', 'jul', 'aug', 'sep', 'oct', 'nov', 'dec', '2015', '2016', '2017', '2018', '2019', '2020', '2021', '2022'])"
   ]
  },
  {
   "cell_type": "code",
   "execution_count": 30,
   "id": "3e9814df",
   "metadata": {},
   "outputs": [],
   "source": [
    "# regression for N\n",
    "X = df[['Alfalfa', 'annualrye', 'bermuda', 'bermudamixed', 'CSA', 'Corn', 'fescuemixed', 'clover', 'crabgrass', 'johnsongrass', 'mixed', 'nwsg', 'orchardgrass', 'small grains', 'switchgrass', 'WSA', 'wheat', 'P', 'K', 'RFQ', 'jan', 'feb', 'mar', 'apr', 'may', 'jun', 'jul', 'aug', 'sep', 'oct', 'nov', 'dec', '2015', '2016', '2017', '2018', '2019', '2020', '2021', '2022']]\n",
    "y = df['N']"
   ]
  },
  {
   "cell_type": "code",
   "execution_count": 31,
   "id": "61463311",
   "metadata": {},
   "outputs": [
    {
     "name": "stdout",
     "output_type": "stream",
     "text": [
      "                            OLS Regression Results                            \n",
      "==============================================================================\n",
      "Dep. Variable:                      N   R-squared:                       0.631\n",
      "Model:                            OLS   Adj. R-squared:                  0.628\n",
      "Method:                 Least Squares   F-statistic:                     259.4\n",
      "Date:                Tue, 01 Nov 2022   Prob (F-statistic):               0.00\n",
      "Time:                        11:03:28   Log-Likelihood:                -2613.2\n",
      "No. Observations:                5653   AIC:                             5302.\n",
      "Df Residuals:                    5615   BIC:                             5555.\n",
      "Df Model:                          37                                         \n",
      "Covariance Type:            nonrobust                                         \n",
      "================================================================================\n",
      "                   coef    std err          t      P>|t|      [0.025      0.975]\n",
      "--------------------------------------------------------------------------------\n",
      "const           -0.0254      0.025     -1.034      0.301      -0.073       0.023\n",
      "Alfalfa          2.3378      0.041     56.765      0.000       2.257       2.419\n",
      "annualrye       -0.1741      0.039     -4.432      0.000      -0.251      -0.097\n",
      "bermuda          0.1945      0.022      8.687      0.000       0.151       0.238\n",
      "bermudamixed -3.976e-16   6.74e-17     -5.901      0.000    -5.3e-16   -2.66e-16\n",
      "CSA             -0.1832      0.052     -3.549      0.000      -0.284      -0.082\n",
      "Corn             1.0417      0.055     18.989      0.000       0.934       1.149\n",
      "fescuemixed     -0.0048      0.022     -0.216      0.829      -0.049       0.039\n",
      "clover           0.1935      0.124      1.563      0.118      -0.049       0.436\n",
      "crabgrass       -0.0958      0.108     -0.885      0.376      -0.308       0.116\n",
      "johnsongrass    -0.0519      0.063     -0.827      0.408      -0.175       0.071\n",
      "mixed            0.0190      0.016      1.183      0.237      -0.012       0.050\n",
      "nwsg             0.0042      0.037      0.113      0.910      -0.068       0.076\n",
      "orchardgrass     0.0506      0.025      2.011      0.044       0.001       0.100\n",
      "small grains    -0.1466      0.037     -3.963      0.000      -0.219      -0.074\n",
      "switchgrass      0.1076      0.038      2.860      0.004       0.034       0.181\n",
      "WSA              0.0246      0.028      0.881      0.379      -0.030       0.079\n",
      "wheat           -0.2171      0.061     -3.573      0.000      -0.336      -0.098\n",
      "P            -8.757e-05      0.004     -0.023      0.982      -0.008       0.007\n",
      "K                0.3582      0.010     34.963      0.000       0.338       0.378\n",
      "RFQ              0.0132      0.000     43.761      0.000       0.013       0.014\n",
      "jan              0.0066      0.016      0.419      0.676      -0.024       0.038\n",
      "feb              0.0125      0.020      0.633      0.527      -0.026       0.051\n",
      "mar             -0.0552      0.023     -2.353      0.019      -0.101      -0.009\n",
      "apr              0.0092      0.037      0.246      0.805      -0.064       0.082\n",
      "may              0.0185      0.027      0.694      0.488      -0.034       0.071\n",
      "jun              0.0366      0.016      2.330      0.020       0.006       0.067\n",
      "jul             -0.0143      0.017     -0.835      0.404      -0.048       0.019\n",
      "aug              0.0013      0.017      0.074      0.941      -0.033       0.035\n",
      "sep              0.0449      0.016      2.809      0.005       0.014       0.076\n",
      "oct             -0.0136      0.016     -0.848      0.396      -0.045       0.018\n",
      "nov             -0.0147      0.015     -0.954      0.340      -0.045       0.016\n",
      "dec             -0.0572      0.022     -2.545      0.011      -0.101      -0.013\n",
      "2015            -0.0582      0.019     -3.120      0.002      -0.095      -0.022\n",
      "2016            -0.0766      0.013     -5.783      0.000      -0.103      -0.051\n",
      "2017            -0.0535      0.015     -3.458      0.001      -0.084      -0.023\n",
      "2018            -0.0301      0.014     -2.102      0.036      -0.058      -0.002\n",
      "2019             0.0014      0.016      0.086      0.931      -0.030       0.033\n",
      "2020            -0.0400      0.014     -2.911      0.004      -0.067      -0.013\n",
      "2021             0.1150      0.013      8.867      0.000       0.090       0.140\n",
      "2022             0.1165      0.021      5.564      0.000       0.075       0.158\n",
      "==============================================================================\n",
      "Omnibus:                      614.197   Durbin-Watson:                   1.533\n",
      "Prob(Omnibus):                  0.000   Jarque-Bera (JB):             4440.660\n",
      "Skew:                          -0.250   Prob(JB):                         0.00\n",
      "Kurtosis:                       7.313   Cond. No.                     1.52e+17\n",
      "==============================================================================\n",
      "\n",
      "Notes:\n",
      "[1] Standard Errors assume that the covariance matrix of the errors is correctly specified.\n",
      "[2] The smallest eigenvalue is 1.99e-27. This might indicate that there are\n",
      "strong multicollinearity problems or that the design matrix is singular.\n"
     ]
    }
   ],
   "source": [
    "X = sm.add_constant(X)\n",
    "result = sm.OLS(y, X).fit()\n",
    "print(result.summary())"
   ]
  },
  {
   "cell_type": "code",
   "execution_count": null,
   "id": "0544e90f",
   "metadata": {},
   "outputs": [],
   "source": [
    "# regression for "
   ]
  }
 ],
 "metadata": {
  "kernelspec": {
   "display_name": "Python 3 (ipykernel)",
   "language": "python",
   "name": "python3"
  },
  "language_info": {
   "codemirror_mode": {
    "name": "ipython",
    "version": 3
   },
   "file_extension": ".py",
   "mimetype": "text/x-python",
   "name": "python",
   "nbconvert_exporter": "python",
   "pygments_lexer": "ipython3",
   "version": "3.9.12"
  }
 },
 "nbformat": 4,
 "nbformat_minor": 5
}
